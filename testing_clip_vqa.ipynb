{
 "cells": [
  {
   "cell_type": "markdown",
   "id": "61ed5a38-c2fe-4e95-b591-c0ba796517ed",
   "metadata": {},
   "source": [
    "This notebook contains:\n",
    "- Preprocess and examples of VQA-RAD dataset\n",
    "- CLIP with linear fusion\n",
    "- Fine-tune CLIP on VQA-RAD dataset (as a classification task)"
   ]
  },
  {
   "cell_type": "code",
   "execution_count": 1,
   "id": "073011d1-7bbf-4338-9054-3c39da334a8d",
   "metadata": {},
   "outputs": [
    {
     "data": {
      "text/plain": [
       "'cuda'"
      ]
     },
     "execution_count": 1,
     "metadata": {},
     "output_type": "execute_result"
    }
   ],
   "source": [
    "import torch\n",
    "device = 'cuda' if torch.cuda.is_available() else 'cpu'\n",
    "device"
   ]
  },
  {
   "cell_type": "code",
   "execution_count": 2,
   "id": "655a47eb-a1f2-40c5-97cd-c9a41457caa3",
   "metadata": {},
   "outputs": [],
   "source": [
    "from typing import Any, Optional, Tuple, Union\n",
    "import matplotlib.pyplot as plt\n",
    "\n",
    "import torch\n",
    "import torch.nn as nn\n",
    "from datasets import load_dataset, DatasetDict\n",
    "from transformers import CLIPProcessor, CLIPModel, AutoModel, AutoTokenizer,  AutoImageProcessor, CLIPImageProcessor\n",
    "from transformers import TrainingArguments, Trainer\n",
    "from transformers.data import DataCollatorWithPadding\n",
    "from transformers.modeling_outputs import ImageClassifierOutput"
   ]
  },
  {
   "cell_type": "markdown",
   "id": "25789324-d16f-43cb-9707-48d297ef9750",
   "metadata": {},
   "source": [
    "## Dataset"
   ]
  },
  {
   "cell_type": "code",
   "execution_count": 2,
   "id": "69d84761-c7e8-4c87-928d-39ad8119a46e",
   "metadata": {},
   "outputs": [],
   "source": [
    "from datasets import load_dataset, DatasetDict\n",
    "import matplotlib.pyplot as plt"
   ]
  },
  {
   "cell_type": "code",
   "execution_count": 3,
   "id": "fabcad96-3d22-4674-98f0-b9740cfe53be",
   "metadata": {},
   "outputs": [
    {
     "data": {
      "text/plain": [
       "DatasetDict({\n",
       "    train: Dataset({\n",
       "        features: ['image', 'question', 'answer'],\n",
       "        num_rows: 1793\n",
       "    })\n",
       "    test: Dataset({\n",
       "        features: ['image', 'question', 'answer'],\n",
       "        num_rows: 451\n",
       "    })\n",
       "})"
      ]
     },
     "execution_count": 3,
     "metadata": {},
     "output_type": "execute_result"
    }
   ],
   "source": [
    "dataset = load_dataset(\"flaviagiammarino/vqa-rad\")\n",
    "dataset"
   ]
  },
  {
   "cell_type": "code",
   "execution_count": 7,
   "id": "5ade6cb8-5550-4748-a79b-0915bad8326b",
   "metadata": {},
   "outputs": [
    {
     "data": {
      "text/plain": [
       "{'image': <PIL.JpegImagePlugin.JpegImageFile image mode=RGB size=566x555>,\n",
       " 'question': 'are regions of the brain infarcted?',\n",
       " 'answer': 'yes'}"
      ]
     },
     "execution_count": 7,
     "metadata": {},
     "output_type": "execute_result"
    }
   ],
   "source": [
    "dataset['train'][0]"
   ]
  },
  {
   "cell_type": "markdown",
   "id": "ff5aeb36-1159-441f-9983-403afe5b7d66",
   "metadata": {},
   "source": [
    "### Split train/valid/test"
   ]
  },
  {
   "cell_type": "code",
   "execution_count": 4,
   "id": "3021fdf3-81e9-4879-9e25-d24130a66e61",
   "metadata": {},
   "outputs": [
    {
     "data": {
      "text/plain": [
       "DatasetDict({\n",
       "    train: Dataset({\n",
       "        features: ['image', 'question', 'answer'],\n",
       "        num_rows: 1568\n",
       "    })\n",
       "    val: Dataset({\n",
       "        features: ['image', 'question', 'answer'],\n",
       "        num_rows: 225\n",
       "    })\n",
       "    test: Dataset({\n",
       "        features: ['image', 'question', 'answer'],\n",
       "        num_rows: 451\n",
       "    })\n",
       "})"
      ]
     },
     "execution_count": 4,
     "metadata": {},
     "output_type": "execute_result"
    }
   ],
   "source": [
    "# train 1568 70%\n",
    "# valid 225 10%\n",
    "# test 451 20%\n",
    "train_val_dataset = dataset[\"train\"].train_test_split(test_size=0.125, seed=123)\n",
    "train_val_test_dataset = DatasetDict({'train': train_val_dataset['train'],\n",
    "                                      'val': train_val_dataset['test'],\n",
    "                                      'test': dataset['test']})\n",
    "                                      \n",
    "train_val_test_dataset"
   ]
  },
  {
   "cell_type": "markdown",
   "id": "d23e2b31-724d-4d9a-b8ed-7a4475552dbf",
   "metadata": {
    "tags": []
   },
   "source": [
    "### Close-ended question subset"
   ]
  },
  {
   "cell_type": "code",
   "execution_count": 11,
   "id": "d189552a-74a5-47bf-9f73-9605a88f2b45",
   "metadata": {},
   "outputs": [
    {
     "name": "stdout",
     "output_type": "stream",
     "text": [
      "# Close-ended question\n",
      "train: 940 / 1793\n",
      "test: 251 / 451\n"
     ]
    }
   ],
   "source": [
    "# original splits\n",
    "print(\"# Close-ended question\")\n",
    "for split in dataset.keys():\n",
    "    cnt = 0\n",
    "    for i in range(len(dataset[split])):\n",
    "        if dataset[split][i]['answer'].lower() in (\"yes\", \"no\"):\n",
    "            cnt += 1\n",
    "    print(f\"{split}: {cnt} / {len(dataset[split])}\")"
   ]
  },
  {
   "cell_type": "code",
   "execution_count": 16,
   "id": "ee0c7be5-cba7-4159-815d-78ffe8f6af9c",
   "metadata": {},
   "outputs": [
    {
     "name": "stdout",
     "output_type": "stream",
     "text": [
      "# Close-ended question\n",
      "train: 821 / 1568\n",
      "val: 119 / 225\n",
      "test: 251 / 451\n"
     ]
    }
   ],
   "source": [
    "# train/val/test split\n",
    "# train 821 69%\n",
    "# val 119 10%\n",
    "# test 251 21%\n",
    "print(\"# Close-ended question\")\n",
    "for split in train_val_test_dataset.keys():\n",
    "    cnt = 0\n",
    "    for i in range(len(train_val_test_dataset[split])):\n",
    "        if train_val_test_dataset[split][i]['answer'].lower() in (\"yes\", \"no\"):\n",
    "            cnt += 1\n",
    "    print(f\"{split}: {cnt} / {len(train_val_test_dataset[split])}\")"
   ]
  },
  {
   "cell_type": "code",
   "execution_count": 5,
   "id": "7597fa71-98cd-4db2-9cc6-5991b5e6d23a",
   "metadata": {},
   "outputs": [
    {
     "data": {
      "text/plain": [
       "DatasetDict({\n",
       "    train: Dataset({\n",
       "        features: ['image', 'question', 'answer'],\n",
       "        num_rows: 940\n",
       "    })\n",
       "    test: Dataset({\n",
       "        features: ['image', 'question', 'answer'],\n",
       "        num_rows: 251\n",
       "    })\n",
       "})"
      ]
     },
     "execution_count": 5,
     "metadata": {},
     "output_type": "execute_result"
    }
   ],
   "source": [
    "close_ended_dataset = dataset.filter(lambda example: example[\"answer\"].lower() in (\"yes\", \"no\"))\n",
    "close_ended_dataset"
   ]
  },
  {
   "cell_type": "code",
   "execution_count": 6,
   "id": "82f324e2-f09b-405e-b4ef-0277fdace393",
   "metadata": {},
   "outputs": [
    {
     "data": {
      "text/plain": [
       "DatasetDict({\n",
       "    train: Dataset({\n",
       "        features: ['image', 'question', 'answer'],\n",
       "        num_rows: 821\n",
       "    })\n",
       "    val: Dataset({\n",
       "        features: ['image', 'question', 'answer'],\n",
       "        num_rows: 119\n",
       "    })\n",
       "    test: Dataset({\n",
       "        features: ['image', 'question', 'answer'],\n",
       "        num_rows: 251\n",
       "    })\n",
       "})"
      ]
     },
     "execution_count": 6,
     "metadata": {},
     "output_type": "execute_result"
    }
   ],
   "source": [
    "close_ended_train_val_test_dataset = train_val_test_dataset.filter(lambda example: example[\"answer\"].lower() in (\"yes\", \"no\"))\n",
    "close_ended_train_val_test_dataset"
   ]
  },
  {
   "cell_type": "code",
   "execution_count": 21,
   "id": "4a3eb854-2b4d-44cf-b48f-c3caa25a1e2f",
   "metadata": {},
   "outputs": [
    {
     "name": "stdout",
     "output_type": "stream",
     "text": [
      "is there evidence of large calcified lesions in the lung fields?\n",
      "no\n"
     ]
    },
    {
     "data": {
      "text/plain": [
       "<matplotlib.image.AxesImage at 0x7f4ce64bc430>"
      ]
     },
     "execution_count": 21,
     "metadata": {},
     "output_type": "execute_result"
    },
    {
     "data": {
      "image/png": "[encoded data removed]",
      "text/plain": [
       "<Figure size 640x480 with 1 Axes>"
      ]
     },
     "metadata": {},
     "output_type": "display_data"
    }
   ],
   "source": [
    "example = close_ended_train_val_test_dataset['train'][0]\n",
    "print(example[\"question\"])\n",
    "print(example[\"answer\"])\n",
    "plt.imshow(example['image'])"
   ]
  },
  {
   "cell_type": "markdown",
   "id": "288e333a-419c-470a-8630-c50de3427f1a",
   "metadata": {},
   "source": [
    "### Preprocess\n",
    "- Map answer to 0/1\n",
    "- Tokenizer question (pad to tensors in data collator)"
   ]
  },
  {
   "cell_type": "code",
   "execution_count": 9,
   "id": "c6cc8827-8643-466d-83ad-d8c4d56a11d1",
   "metadata": {},
   "outputs": [],
   "source": [
    "image_processor = CLIPImageProcessor.from_pretrained(\"openai/clip-vit-base-patch32\")\n",
    "tokenizer = AutoTokenizer.from_pretrained(\"openai/clip-vit-base-patch32\")\n",
    "processor = CLIPProcessor.from_pretrained(\"openai/clip-vit-base-patch32\")\n",
    "def preprocess(batch):\n",
    "    batch[\"labels\"] = [1 if answer.lower() == \"yes\" else 0 for answer in batch[\"answer\"]]\n",
    "    image_features = image_processor(batch[\"image\"])\n",
    "    text_features = tokenizer(batch[\"question\"])\n",
    "    batch = {**image_features, **text_features, **batch}\n",
    "    return batch"
   ]
  },
  {
   "cell_type": "code",
   "execution_count": 122,
   "id": "a4321ad5-53e4-4065-a73c-4a0ff1473233",
   "metadata": {},
   "outputs": [
    {
     "data": {
      "text/plain": [
       "numpy.ndarray"
      ]
     },
     "execution_count": 122,
     "metadata": {},
     "output_type": "execute_result"
    }
   ],
   "source": [
    "image_processor = CLIPImageProcessor.from_pretrained(\"openai/clip-vit-base-patch32\")\n",
    "image_features = image_processor(dataset['train'][:4]['image'])\n",
    "type(image_features['pixel_values'][0])"
   ]
  },
  {
   "cell_type": "code",
   "execution_count": 108,
   "id": "c5588ae5-3d11-44c4-824d-95219107c81e",
   "metadata": {},
   "outputs": [
    {
     "data": {
      "text/plain": [
       "{'input_ids': [[49406, 631, 14530, 539, 518, 4812, 1529, 516, 2910, 286, 49407], [49406, 631, 518, 27366, 5967, 18759, 286, 49407], [49406, 1448, 13213, 2422, 533, 40934, 530, 589, 2867, 286, 49407], [49406, 533, 518, 534, 1015, 10779, 8735, 1195, 27030, 1223, 697, 656, 286, 49407]], 'attention_mask': [[1, 1, 1, 1, 1, 1, 1, 1, 1, 1, 1], [1, 1, 1, 1, 1, 1, 1, 1], [1, 1, 1, 1, 1, 1, 1, 1, 1, 1, 1], [1, 1, 1, 1, 1, 1, 1, 1, 1, 1, 1, 1, 1, 1]]}"
      ]
     },
     "execution_count": 108,
     "metadata": {},
     "output_type": "execute_result"
    }
   ],
   "source": [
    "text_features = tokenizer(text) # no padding\n",
    "text_features"
   ]
  },
  {
   "cell_type": "code",
   "execution_count": 10,
   "id": "d4e2a321-b757-4056-b8c7-c6219a5e9c40",
   "metadata": {},
   "outputs": [
    {
     "data": {
      "text/plain": [
       "DatasetDict({\n",
       "    train: Dataset({\n",
       "        features: ['labels', 'pixel_values', 'input_ids', 'attention_mask'],\n",
       "        num_rows: 821\n",
       "    })\n",
       "    val: Dataset({\n",
       "        features: ['labels', 'pixel_values', 'input_ids', 'attention_mask'],\n",
       "        num_rows: 119\n",
       "    })\n",
       "    test: Dataset({\n",
       "        features: ['labels', 'pixel_values', 'input_ids', 'attention_mask'],\n",
       "        num_rows: 251\n",
       "    })\n",
       "})"
      ]
     },
     "execution_count": 10,
     "metadata": {},
     "output_type": "execute_result"
    }
   ],
   "source": [
    "# image_processor = CLIPImageProcessor.from_pretrained(\"openai/clip-vit-base-patch32\")\n",
    "# tokenizer = AutoTokenizer.from_pretrained(\"openai/clip-vit-base-patch32\")\n",
    "processed_dataset = close_ended_train_val_test_dataset.map(preprocess, batched=True)\n",
    "processed_dataset = processed_dataset.remove_columns([\"image\", \"question\", \"answer\"])\n",
    "processed_dataset"
   ]
  },
  {
   "cell_type": "code",
   "execution_count": 161,
   "id": "28916299-bdaf-485d-94df-cda76963f5f8",
   "metadata": {},
   "outputs": [
    {
     "name": "stdout",
     "output_type": "stream",
     "text": [
      "0\n",
      "[49406, 533, 997, 6439, 539, 3638, 22824, 2853, 534, 4060, 530, 518, 16271, 6494, 286, 49407]\n",
      "[1, 1, 1, 1, 1, 1, 1, 1, 1, 1, 1, 1, 1, 1, 1, 1]\n",
      "(3, 224, 224)\n"
     ]
    }
   ],
   "source": [
    "print(processed_dataset['train'][0]['labels'])\n",
    "print(processed_dataset['train'][0]['input_ids'])\n",
    "print(processed_dataset['train'][0]['attention_mask'])\n",
    "print(np.array(processed_dataset['train'][0]['pixel_values']).shape) # list"
   ]
  },
  {
   "cell_type": "markdown",
   "id": "cd0c0642-7c3e-4ee0-be42-3707dbe27fb4",
   "metadata": {},
   "source": [
    "### Data Collator\n",
    "\n",
    "- tokenizer.pad: https://github.com/huggingface/transformers/blob/main/src/transformers/tokenization_utils_base.py#L3199\n",
    "- tokenizer._pad: pad attention_mask, token_type_ids, special_tokens_mask, input_ids, and remain other items unchanged (collated in later functions)\n",
    "https://github.com/huggingface/transformers/blob/main/src/transformers/tokenization_utils_base.py#L3672\n",
    "- data collator with padding: https://github.com/huggingface/transformers/blob/v4.40.2/src/transformers/data/data_collator.py#L237"
   ]
  },
  {
   "cell_type": "code",
   "execution_count": 190,
   "id": "9a376c67-1662-4a81-89d6-a2bba97b7bcc",
   "metadata": {},
   "outputs": [],
   "source": [
    "from transformers.data import DataCollatorWithPadding"
   ]
  },
  {
   "cell_type": "code",
   "execution_count": 178,
   "id": "2949dd34-5aa8-4e34-bc63-9756a9406a78",
   "metadata": {},
   "outputs": [
    {
     "name": "stdout",
     "output_type": "stream",
     "text": [
      "labels torch.Size([4])\n",
      "pixel_values torch.Size([4, 3, 224, 224])\n",
      "input_ids torch.Size([4, 16])\n",
      "attention_mask torch.Size([4, 16])\n",
      "labels\n",
      "1\n",
      "tensor(1)\n",
      "pixel values True\n",
      "input_ids\n",
      "[49406, 631, 518, 29050, 8258, 18417, 2494, 286, 49407]\n",
      "tensor([49406,   631,   518, 29050,  8258, 18417,  2494,   286, 49407, 49407,\n",
      "        49407, 49407, 49407, 49407, 49407, 49407])\n",
      "attention_mask\n",
      "[1, 1, 1, 1, 1, 1, 1, 1, 1]\n",
      "tensor([1, 1, 1, 1, 1, 1, 1, 1, 1, 0, 0, 0, 0, 0, 0, 0])\n"
     ]
    }
   ],
   "source": [
    "batch = [processed_dataset['train'][i] for i in range(4)]\n",
    "padded_batch = tokenizer.pad(batch, return_tensors=\"pt\")\n",
    "for k, v in padded_batch.items():\n",
    "    print(k, v.shape)\n",
    "i = 2\n",
    "print(\"labels\", batch[i][\"labels\"], padded_batch[\"labels\"][i], sep=\"\\n\")\n",
    "print(\"pixel values\", np.all(np.array(batch[i][\"pixel_values\"]) == np.array(padded_batch[\"pixel_values\"][i]))) # unchanged!\n",
    "print(\"input_ids\", batch[i][\"input_ids\"], padded_batch[\"input_ids\"][i], sep=\"\\n\")\n",
    "print(\"attention_mask\", batch[i][\"attention_mask\"], padded_batch[\"attention_mask\"][i], sep=\"\\n\")\n",
    "# can use DataCollatorWithPadding (provide tokenizer to the hugginface trainer)"
   ]
  },
  {
   "cell_type": "markdown",
   "id": "b8d71388-c767-4dd5-be76-431ee125d569",
   "metadata": {},
   "source": [
    "## CLIP"
   ]
  },
  {
   "cell_type": "code",
   "execution_count": 104,
   "id": "b418b75a-9e5f-46d7-a6b8-b78121f967e2",
   "metadata": {},
   "outputs": [],
   "source": [
    "import torch\n",
    "from transformers import CLIPProcessor, CLIPModel, AutoTokenizer,  AutoImageProcessor, CLIPImageProcessor"
   ]
  },
  {
   "cell_type": "code",
   "execution_count": 32,
   "id": "8182c802-15b1-4649-a74b-9a779525f102",
   "metadata": {},
   "outputs": [],
   "source": [
    "model = CLIPModel.from_pretrained(\"openai/clip-vit-base-patch32\")\n",
    "processor = CLIPProcessor.from_pretrained(\"openai/clip-vit-base-patch32\")\n",
    "tokenizer = AutoTokenizer.from_pretrained(\"openai/clip-vit-base-patch32\")"
   ]
  },
  {
   "cell_type": "markdown",
   "id": "d4b5ec64-6bf5-4349-8aa6-cf3e042b49d7",
   "metadata": {},
   "source": [
    "### Zero-Shot Image Classification"
   ]
  },
  {
   "cell_type": "code",
   "execution_count": 17,
   "id": "42d0044e-c9f3-4117-965c-0d89eba8078c",
   "metadata": {},
   "outputs": [
    {
     "name": "stdout",
     "output_type": "stream",
     "text": [
      "Ground truth: yes\n",
      "Predicted probs: tensor([[0.3213, 0.6787]])\n"
     ]
    }
   ],
   "source": [
    "image = dataset['train'][0]['image']\n",
    "\n",
    "inputs = processor(text=[\"yes\", \"no\"], images=image, return_tensors=\"pt\", padding=True)\n",
    "\n",
    "with torch.no_grad():\n",
    "    outputs = model(**inputs)\n",
    "logits_per_image = outputs.logits_per_image # this is the image-text similarity score\n",
    "probs = logits_per_image.softmax(dim=1) # we can take the softmax to get the label probabilities\n",
    "\n",
    "print(\"Ground truth:\", dataset['train'][0]['answer'])\n",
    "print(\"Predicted probs:\", probs)"
   ]
  },
  {
   "cell_type": "markdown",
   "id": "1ceb7ee9-614f-48ae-99ae-152f07b6dffd",
   "metadata": {},
   "source": [
    "### CLIP modules"
   ]
  },
  {
   "cell_type": "code",
   "execution_count": 29,
   "id": "0e9cdf1c-7fc0-48b3-aa38-80d6153f38e1",
   "metadata": {},
   "outputs": [
    {
     "data": {
      "text/plain": [
       "torch.Size([1, 3, 224, 224])"
      ]
     },
     "execution_count": 29,
     "metadata": {},
     "output_type": "execute_result"
    }
   ],
   "source": [
    "image = dataset['train'][0]['image']\n",
    "image_inputs = processor(images=image, return_tensors=\"pt\")\n",
    "image_inputs['pixel_values'].shape"
   ]
  },
  {
   "cell_type": "code",
   "execution_count": 36,
   "id": "2d48482d-092f-48d1-8510-df60658ad2fd",
   "metadata": {},
   "outputs": [
    {
     "name": "stdout",
     "output_type": "stream",
     "text": [
      "{'input_ids': tensor([[49406,   631, 14530,   539,   518,  4812,  1529,   516,  2910,   286,\n",
      "         49407]]), 'attention_mask': tensor([[1, 1, 1, 1, 1, 1, 1, 1, 1, 1, 1]])}\n",
      "torch.Size([1, 11])\n"
     ]
    }
   ],
   "source": [
    "text = dataset['train'][0]['question']\n",
    "text_inputs = tokenizer([text], padding=True, return_tensors=\"pt\")\n",
    "print(text_inputs)\n",
    "print(text_inputs['input_ids'].shape)"
   ]
  },
  {
   "cell_type": "code",
   "execution_count": 37,
   "id": "9d45c16d-ee07-4d17-95fc-7b0703164009",
   "metadata": {},
   "outputs": [
    {
     "data": {
      "text/plain": [
       "(torch.Size([1, 512]), torch.Size([1, 512]))"
      ]
     },
     "execution_count": 37,
     "metadata": {},
     "output_type": "execute_result"
    }
   ],
   "source": [
    "with torch.no_grad():\n",
    "    text_features = model.get_text_features(**text_inputs)\n",
    "    image_features = model.get_image_features(**image_inputs)\n",
    "text_features.shape, image_features.shape"
   ]
  },
  {
   "cell_type": "code",
   "execution_count": 39,
   "id": "79de3d25-4be0-499d-b8b3-41850b0388bd",
   "metadata": {},
   "outputs": [
    {
     "name": "stdout",
     "output_type": "stream",
     "text": [
      "last_hidden_state torch.Size([1, 11, 512])\n",
      "pooler_output torch.Size([1, 512])\n"
     ]
    }
   ],
   "source": [
    "with torch.no_grad():\n",
    "    text_outputs = model.text_model(**text_inputs)\n",
    "for k, v in text_outputs.items():\n",
    "    print(k, v.shape)\n",
    "# apply text_project on pooler_output to get text_features"
   ]
  },
  {
   "cell_type": "code",
   "execution_count": 40,
   "id": "44b35087-d672-4123-accc-eb23e63c30e0",
   "metadata": {},
   "outputs": [],
   "source": [
    "# model"
   ]
  },
  {
   "cell_type": "markdown",
   "id": "76b92034-15f6-445d-9ca3-065f9faaf26c",
   "metadata": {},
   "source": [
    "### Linear Fusion\n",
    "\n",
    "- CLIP for image classfication: refer to how they define loss and output\n",
    "https://github.com/huggingface/transformers/blob/main/src/transformers/models/clip/modeling_clip.py#L1327"
   ]
  },
  {
   "cell_type": "code",
   "execution_count": 3,
   "id": "85b958b4-1ab5-4ab5-9cea-04a32a68f107",
   "metadata": {},
   "outputs": [],
   "source": [
    "from typing import Any, Optional, Tuple, Union\n",
    "\n",
    "import torch\n",
    "import torch.nn as nn\n",
    "from transformers import AutoModel, AutoProcessor, AutoTokenizer\n",
    "from transformers.modeling_outputs import ImageClassifierOutput"
   ]
  },
  {
   "cell_type": "code",
   "execution_count": 9,
   "id": "5e0e0282-6032-44df-9fd6-bdfab4ff839a",
   "metadata": {},
   "outputs": [],
   "source": [
    "class CLIPwithLinearFusion(nn.Module):\n",
    "    \"\"\"\n",
    "        Apply a fully connected network on concatenated text and image features\n",
    "        Predict a scalar score for binary/multi-class classification\n",
    "    \"\"\"\n",
    "    def __init__(self, clip_model_name, num_labels):\n",
    "        super().__init__()\n",
    "        self.base_model = AutoModel.from_pretrained(clip_model_name)\n",
    "        self.num_labels = num_labels\n",
    "        projection_dim = self.base_model.projection_dim\n",
    "        output_dim = 1 if num_labels == 2 else num_labels # scalar output for binary classification\n",
    "        self.MLP = nn.Sequential(nn.Linear(2 * projection_dim, 512),\n",
    "                                 nn.ReLU(),\n",
    "                                 nn.Linear(512, 128),\n",
    "                                 nn.ReLU(),\n",
    "                                 nn.Linear(128, output_dim))\n",
    "    def forward(\n",
    "        self,\n",
    "        input_ids: Optional[torch.LongTensor] = None,\n",
    "        pixel_values: Optional[torch.FloatTensor] = None,\n",
    "        attention_mask: Optional[torch.Tensor] = None,\n",
    "        position_ids: Optional[torch.LongTensor] = None,\n",
    "        labels: Optional[torch.Tensor] = None,\n",
    "    ) -> torch.FloatTensor:\n",
    "        \n",
    "        text_features = self.base_model.get_text_features(input_ids=input_ids,\n",
    "                                                          attention_mask=attention_mask,\n",
    "                                                          position_ids=position_ids) # (N, 512)\n",
    "        image_features = self.base_model.get_image_features(pixel_values=pixel_values) # (N, 512)\n",
    "        concat_features = torch.cat([text_features, image_features], dim=1) # (N, 1024)\n",
    "        logits = self.MLP(concat_features).squeeze() # (N,) or (N, C)\n",
    "        \n",
    "        loss = None\n",
    "        if labels is not None:\n",
    "            labels = labels.to(logits.device)\n",
    "            if self.num_labels == 2:\n",
    "                # binary classification\n",
    "                loss_fct = nn.BCEWithLogitsLoss()\n",
    "                loss = loss_fct(logits.squeeze(), labels.squeeze().float())\n",
    "            else:\n",
    "                # multi-class classification\n",
    "                loss_fct = nn.CrossEntropyLoss()\n",
    "                loss = loss_fct(logits.view(-1, self.num_labels), labels.view(-1))\n",
    "            \n",
    "        return ImageClassifierOutput(\n",
    "            loss=loss,\n",
    "            logits=logits,\n",
    "        )"
   ]
  },
  {
   "cell_type": "code",
   "execution_count": 187,
   "id": "25419108-6a1c-4eed-b039-94c394ca7d33",
   "metadata": {},
   "outputs": [
    {
     "name": "stdout",
     "output_type": "stream",
     "text": [
      "None\n",
      "tensor([-0.0277, -0.0502, -0.0423, -0.0046], device='cuda:0')\n"
     ]
    }
   ],
   "source": [
    "image = dataset['train'][:4]['image']\n",
    "# image_inputs = processor(images=image, return_tensors=\"pt\").to(device)\n",
    "text = dataset['train'][:4]['question']\n",
    "# text_inputs = tokenizer(text, padding=True, return_tensors=\"pt\").to(device)\n",
    "batch = processor(images=image, text=text, padding=True, return_tensors=\"pt\").to(device)\n",
    "model = CLIPwithLinearFusion(\"openai/clip-vit-base-patch32\", 2).to(device)\n",
    "with torch.no_grad():\n",
    "    outputs = model(**batch)\n",
    "print(outputs.loss)\n",
    "print(outputs.logits)"
   ]
  },
  {
   "cell_type": "code",
   "execution_count": 14,
   "id": "227ef8b4-0458-4a38-a5ed-701c262ad1ff",
   "metadata": {},
   "outputs": [
    {
     "name": "stdout",
     "output_type": "stream",
     "text": [
      "torch.float32 torch.int64\n",
      "tensor(0.6756, device='cuda:0')\n",
      "tensor([0.1057, 0.0790, 0.0893, 0.0859], device='cuda:0')\n"
     ]
    }
   ],
   "source": [
    "from transformers.data import DataCollatorWithPadding\n",
    "\n",
    "tokenizer = AutoTokenizer.from_pretrained(\"openai/clip-vit-base-patch32\")\n",
    "data_collator = DataCollatorWithPadding(tokenizer)\n",
    "batch = data_collator(processed_dataset['train'][:4])\n",
    "batch = batch.to(device)\n",
    "\n",
    "model = CLIPwithLinearFusion(\"openai/clip-vit-base-patch32\", 2).to(device)\n",
    "with torch.no_grad():\n",
    "    outputs = model(**batch)\n",
    "print(outputs.loss)\n",
    "print(outputs.logits)"
   ]
  },
  {
   "cell_type": "markdown",
   "id": "0fe2bc07-1fe2-4bc6-8bad-9cede84d6e47",
   "metadata": {},
   "source": [
    "## Trainer\n",
    "\n",
    "- Calculate loss in the custom model.\n",
    "- Define compute_metric function."
   ]
  },
  {
   "cell_type": "code",
   "execution_count": 5,
   "id": "a5932349-4bfc-4187-88f8-b929c4396f60",
   "metadata": {},
   "outputs": [],
   "source": [
    "from transformers import TrainingArguments, Trainer"
   ]
  },
  {
   "cell_type": "code",
   "execution_count": 12,
   "id": "8c3be657-9ee1-4fdc-a3c5-c5d759f974ee",
   "metadata": {},
   "outputs": [],
   "source": [
    "def compute_accuracy(eval_pred):\n",
    "    logits = eval_pred.predictions # ndarray\n",
    "    labels = eval_pred.label_ids # ndarray\n",
    "    if len(logits.shape) == 1:\n",
    "        # binary classification\n",
    "        predictions = logits > 0.5\n",
    "    else:\n",
    "        # multi class classification\n",
    "        predictions = torch.argmax(logits, dim=1)\n",
    "    accuracy = (predictions == labels).mean()\n",
    "\n",
    "    return {\"accuracy\": accuracy}"
   ]
  },
  {
   "cell_type": "code",
   "execution_count": 218,
   "id": "8b2f8a52-3a0b-4b45-9b08-f6cfb6a311c8",
   "metadata": {},
   "outputs": [
    {
     "name": "stdout",
     "output_type": "stream",
     "text": [
      "{'accuracy': tensor(0.4000)}\n",
      "{'accuracy': tensor(0.6667)}\n"
     ]
    }
   ],
   "source": [
    "from types import SimpleNamespace  \n",
    "\n",
    "# binary\n",
    "logits = torch.FloatTensor([0.1, 0.1, 0.6, 0.7, 0.9])\n",
    "labels = torch.LongTensor([0, 1, 1, 0, 0])\n",
    "eval_pred = SimpleNamespace(predictions=logits, label_ids=labels)\n",
    "\n",
    "print(compute_accuracy(eval_pred))\n",
    "\n",
    "# multi class\n",
    "logits = torch.FloatTensor([[1.0, 0.1, 0.6],\n",
    "                            [0.1, 1.0, -0.2],\n",
    "                            [1.0, -0.2, -0.3]])\n",
    "labels = torch.LongTensor([0, 1, 2])\n",
    "eval_pred = SimpleNamespace(predictions=logits, label_ids=labels)\n",
    "\n",
    "print(compute_accuracy(eval_pred))"
   ]
  },
  {
   "cell_type": "code",
   "execution_count": 10,
   "id": "8a5a1985-d3ae-419b-8150-15ad0e78f8db",
   "metadata": {},
   "outputs": [
    {
     "name": "stderr",
     "output_type": "stream",
     "text": [
      "/deep/u/ying1029/anaconda3/envs/cs231n/lib/python3.10/site-packages/huggingface_hub/file_download.py:1132: FutureWarning: `resume_download` is deprecated and will be removed in version 1.0.0. Downloads always resume when possible. If you want to force a new download, use `force_download=True`.\n",
      "  warnings.warn(\n"
     ]
    }
   ],
   "source": [
    "dataset = load_dataset(\"flaviagiammarino/vqa-rad\")\n",
    "train_val_dataset = dataset[\"train\"].train_test_split(test_size=0.125, seed=123)\n",
    "train_val_test_dataset = DatasetDict({'train': train_val_dataset['train'],\n",
    "                                      'val': train_val_dataset['test'],\n",
    "                                      'test': dataset['test']})\n",
    "close_ended_train_val_test_dataset = train_val_test_dataset.filter(lambda example: example[\"answer\"].lower() in (\"yes\", \"no\"))\n",
    "\n",
    "model = CLIPwithLinearFusion(\"openai/clip-vit-base-patch32\", 2).to(device)\n",
    "\n",
    "def preprocess(batch):\n",
    "    batch[\"labels\"] = [1 if answer.lower() == \"yes\" else 0 for answer in batch[\"answer\"]]\n",
    "    image_features = image_processor(batch[\"image\"])\n",
    "    text_features = tokenizer(batch[\"question\"])\n",
    "    batch = {**image_features, **text_features, **batch}\n",
    "    return batch\n",
    "\n",
    "image_processor = CLIPImageProcessor.from_pretrained(\"openai/clip-vit-base-patch32\")\n",
    "tokenizer = AutoTokenizer.from_pretrained(\"openai/clip-vit-base-patch32\")\n",
    "\n",
    "processed_dataset = close_ended_train_val_test_dataset.map(preprocess, batched=True)\n",
    "processed_dataset = processed_dataset.remove_columns([\"image\", \"question\", \"answer\"])"
   ]
  },
  {
   "cell_type": "code",
   "execution_count": null,
   "id": "720e4821-26c2-4e27-b423-ebc59f6afc66",
   "metadata": {},
   "outputs": [],
   "source": [
    "for i in range(10):\n",
    "    print(close_ended_train_val_test_dataset[\"train\"][i][\"question\"])"
   ]
  },
  {
   "cell_type": "code",
   "execution_count": 8,
   "id": "ace5725c-77a3-4187-961a-c34ddbfb78ee",
   "metadata": {},
   "outputs": [
    {
     "data": {
      "text/plain": [
       "'2.0.1'"
      ]
     },
     "execution_count": 8,
     "metadata": {},
     "output_type": "execute_result"
    }
   ],
   "source": [
    "torch.__version__ # require torch version >= 2.0.0"
   ]
  },
  {
   "cell_type": "code",
   "execution_count": 13,
   "id": "873fe286-bff5-44c2-b5dc-f0b5d7fdd1d8",
   "metadata": {},
   "outputs": [
    {
     "name": "stderr",
     "output_type": "stream",
     "text": [
      "Detected kernel version 5.4.0, which is below the recommended minimum of 5.5.0; this can cause the process to hang. It is recommended to upgrade the kernel to the minimum version or higher.\n"
     ]
    },
    {
     "data": {
      "text/html": [
       "\n",
       "    <div>\n",
       "      \n",
       "      <progress value='309' max='309' style='width:300px; height:20px; vertical-align: middle;'></progress>\n",
       "      [309/309 14:34, Epoch 3/3]\n",
       "    </div>\n",
       "    <table border=\"1\" class=\"dataframe\">\n",
       "  <thead>\n",
       " <tr style=\"text-align: left;\">\n",
       "      <th>Step</th>\n",
       "      <th>Training Loss</th>\n",
       "      <th>Validation Loss</th>\n",
       "      <th>Accuracy</th>\n",
       "    </tr>\n",
       "  </thead>\n",
       "  <tbody>\n",
       "    <tr>\n",
       "      <td>10</td>\n",
       "      <td>0.672600</td>\n",
       "      <td>0.693460</td>\n",
       "      <td>0.462185</td>\n",
       "    </tr>\n",
       "    <tr>\n",
       "      <td>20</td>\n",
       "      <td>0.688000</td>\n",
       "      <td>0.686667</td>\n",
       "      <td>0.462185</td>\n",
       "    </tr>\n",
       "    <tr>\n",
       "      <td>30</td>\n",
       "      <td>0.676800</td>\n",
       "      <td>0.683011</td>\n",
       "      <td>0.462185</td>\n",
       "    </tr>\n",
       "    <tr>\n",
       "      <td>40</td>\n",
       "      <td>0.683400</td>\n",
       "      <td>0.678259</td>\n",
       "      <td>0.462185</td>\n",
       "    </tr>\n",
       "    <tr>\n",
       "      <td>50</td>\n",
       "      <td>0.688800</td>\n",
       "      <td>0.680413</td>\n",
       "      <td>0.462185</td>\n",
       "    </tr>\n",
       "    <tr>\n",
       "      <td>60</td>\n",
       "      <td>0.659300</td>\n",
       "      <td>0.675306</td>\n",
       "      <td>0.462185</td>\n",
       "    </tr>\n",
       "    <tr>\n",
       "      <td>70</td>\n",
       "      <td>0.678800</td>\n",
       "      <td>0.673619</td>\n",
       "      <td>0.462185</td>\n",
       "    </tr>\n",
       "    <tr>\n",
       "      <td>80</td>\n",
       "      <td>0.654100</td>\n",
       "      <td>0.671307</td>\n",
       "      <td>0.462185</td>\n",
       "    </tr>\n",
       "    <tr>\n",
       "      <td>90</td>\n",
       "      <td>0.668300</td>\n",
       "      <td>0.674356</td>\n",
       "      <td>0.462185</td>\n",
       "    </tr>\n",
       "    <tr>\n",
       "      <td>100</td>\n",
       "      <td>0.674300</td>\n",
       "      <td>0.665351</td>\n",
       "      <td>0.462185</td>\n",
       "    </tr>\n",
       "    <tr>\n",
       "      <td>110</td>\n",
       "      <td>0.617600</td>\n",
       "      <td>0.657718</td>\n",
       "      <td>0.462185</td>\n",
       "    </tr>\n",
       "    <tr>\n",
       "      <td>120</td>\n",
       "      <td>0.647100</td>\n",
       "      <td>0.655612</td>\n",
       "      <td>0.462185</td>\n",
       "    </tr>\n",
       "    <tr>\n",
       "      <td>130</td>\n",
       "      <td>0.613300</td>\n",
       "      <td>0.649645</td>\n",
       "      <td>0.470588</td>\n",
       "    </tr>\n",
       "    <tr>\n",
       "      <td>140</td>\n",
       "      <td>0.620600</td>\n",
       "      <td>0.645910</td>\n",
       "      <td>0.605042</td>\n",
       "    </tr>\n",
       "    <tr>\n",
       "      <td>150</td>\n",
       "      <td>0.609100</td>\n",
       "      <td>0.638981</td>\n",
       "      <td>0.596639</td>\n",
       "    </tr>\n",
       "    <tr>\n",
       "      <td>160</td>\n",
       "      <td>0.584500</td>\n",
       "      <td>0.631781</td>\n",
       "      <td>0.546218</td>\n",
       "    </tr>\n",
       "    <tr>\n",
       "      <td>170</td>\n",
       "      <td>0.588700</td>\n",
       "      <td>0.629150</td>\n",
       "      <td>0.529412</td>\n",
       "    </tr>\n",
       "    <tr>\n",
       "      <td>180</td>\n",
       "      <td>0.577100</td>\n",
       "      <td>0.621849</td>\n",
       "      <td>0.537815</td>\n",
       "    </tr>\n",
       "    <tr>\n",
       "      <td>190</td>\n",
       "      <td>0.630700</td>\n",
       "      <td>0.613867</td>\n",
       "      <td>0.630252</td>\n",
       "    </tr>\n",
       "    <tr>\n",
       "      <td>200</td>\n",
       "      <td>0.602900</td>\n",
       "      <td>0.612781</td>\n",
       "      <td>0.638655</td>\n",
       "    </tr>\n",
       "    <tr>\n",
       "      <td>210</td>\n",
       "      <td>0.621700</td>\n",
       "      <td>0.611787</td>\n",
       "      <td>0.579832</td>\n",
       "    </tr>\n",
       "    <tr>\n",
       "      <td>220</td>\n",
       "      <td>0.569900</td>\n",
       "      <td>0.607026</td>\n",
       "      <td>0.630252</td>\n",
       "    </tr>\n",
       "    <tr>\n",
       "      <td>230</td>\n",
       "      <td>0.543600</td>\n",
       "      <td>0.605016</td>\n",
       "      <td>0.638655</td>\n",
       "    </tr>\n",
       "    <tr>\n",
       "      <td>240</td>\n",
       "      <td>0.543500</td>\n",
       "      <td>0.604151</td>\n",
       "      <td>0.647059</td>\n",
       "    </tr>\n",
       "    <tr>\n",
       "      <td>250</td>\n",
       "      <td>0.525600</td>\n",
       "      <td>0.604704</td>\n",
       "      <td>0.613445</td>\n",
       "    </tr>\n",
       "    <tr>\n",
       "      <td>260</td>\n",
       "      <td>0.525900</td>\n",
       "      <td>0.600478</td>\n",
       "      <td>0.621849</td>\n",
       "    </tr>\n",
       "    <tr>\n",
       "      <td>270</td>\n",
       "      <td>0.530600</td>\n",
       "      <td>0.595838</td>\n",
       "      <td>0.638655</td>\n",
       "    </tr>\n",
       "    <tr>\n",
       "      <td>280</td>\n",
       "      <td>0.520200</td>\n",
       "      <td>0.592558</td>\n",
       "      <td>0.647059</td>\n",
       "    </tr>\n",
       "    <tr>\n",
       "      <td>290</td>\n",
       "      <td>0.498900</td>\n",
       "      <td>0.591104</td>\n",
       "      <td>0.638655</td>\n",
       "    </tr>\n",
       "    <tr>\n",
       "      <td>300</td>\n",
       "      <td>0.556900</td>\n",
       "      <td>0.590081</td>\n",
       "      <td>0.638655</td>\n",
       "    </tr>\n",
       "  </tbody>\n",
       "</table><p>"
      ],
      "text/plain": [
       "<IPython.core.display.HTML object>"
      ]
     },
     "metadata": {},
     "output_type": "display_data"
    },
    {
     "data": {
      "text/plain": [
       "TrainOutput(global_step=309, training_loss=0.6072785784897295, metrics={'train_runtime': 876.4459, 'train_samples_per_second': 2.81, 'train_steps_per_second': 0.353, 'total_flos': 0.0, 'train_loss': 0.6072785784897295, 'epoch': 3.0})"
      ]
     },
     "execution_count": 13,
     "metadata": {},
     "output_type": "execute_result"
    }
   ],
   "source": [
    "training_args = TrainingArguments(output_dir=\"clip-vit-base-patch32_linear_binary\",\n",
    "                                  evaluation_strategy=\"steps\",\n",
    "                                  per_device_train_batch_size=8,\n",
    "                                  per_device_eval_batch_size=8,\n",
    "                                  learning_rate=5e-6,\n",
    "                                  num_train_epochs=3,\n",
    "                                  logging_steps=10)\n",
    "                                  # save_strategy=\"epoch\",\n",
    "                                  # load_best_model_at_end=True,)\n",
    "trainer = Trainer(\n",
    "    model=model,\n",
    "    args=training_args,\n",
    "    train_dataset=processed_dataset[\"train\"],\n",
    "    eval_dataset=processed_dataset[\"val\"],\n",
    "    tokenizer=tokenizer,\n",
    "    compute_metrics=compute_accuracy,\n",
    ")\n",
    "\n",
    "trainer.train()"
   ]
  },
  {
   "cell_type": "code",
   "execution_count": 18,
   "id": "2defdfb7-4d38-4474-abba-df6b44122d42",
   "metadata": {},
   "outputs": [],
   "source": [
    "!kill 3010288"
   ]
  },
  {
   "cell_type": "code",
   "execution_count": 24,
   "id": "10c3d345-43f0-4782-89cc-e87583dbfe8d",
   "metadata": {},
   "outputs": [
    {
     "name": "stdout",
     "output_type": "stream",
     "text": [
      "The tensorboard extension is already loaded. To reload it, use:\n",
      "  %reload_ext tensorboard\n"
     ]
    },
    {
     "data": {
      "text/html": [
       "\n",
       "      <iframe id=\"tensorboard-frame-bd9c66b3ad3c2d6d\" width=\"100%\" height=\"800\" frameborder=\"0\">\n",
       "      </iframe>\n",
       "      <script>\n",
       "        (function() {\n",
       "          const frame = document.getElementById(\"tensorboard-frame-bd9c66b3ad3c2d6d\");\n",
       "          const url = new URL(\"/\", window.location);\n",
       "          const port = 6006;\n",
       "          if (port) {\n",
       "            url.port = port;\n",
       "          }\n",
       "          frame.src = url;\n",
       "        })();\n",
       "      </script>\n",
       "    "
      ],
      "text/plain": [
       "<IPython.core.display.HTML object>"
      ]
     },
     "metadata": {},
     "output_type": "display_data"
    }
   ],
   "source": [
    "# Load the TensorBoard notebook extension\n",
    "%load_ext tensorboard\n",
    "%tensorboard --logdir clip-vit-base-patch32_linear_binary/runs --bind_all"
   ]
  },
  {
   "cell_type": "code",
   "execution_count": null,
   "id": "38610fd2-6784-413a-ba70-98b5a64199da",
   "metadata": {},
   "outputs": [],
   "source": []
  },
  {
   "cell_type": "code",
   "execution_count": null,
   "id": "1e8cb07c-a8a1-434e-be86-6dd1dfc42ea1",
   "metadata": {},
   "outputs": [],
   "source": []
  }
 ],
 "metadata": {
  "kernelspec": {
   "display_name": "Python 3 (ipykernel)",
   "language": "python",
   "name": "python3"
  },
  "language_info": {
   "codemirror_mode": {
    "name": "ipython",
    "version": 3
   },
   "file_extension": ".py",
   "mimetype": "text/x-python",
   "name": "python",
   "nbconvert_exporter": "python",
   "pygments_lexer": "ipython3",
   "version": "3.10.8"
  }
 },
 "nbformat": 4,
 "nbformat_minor": 5
}
